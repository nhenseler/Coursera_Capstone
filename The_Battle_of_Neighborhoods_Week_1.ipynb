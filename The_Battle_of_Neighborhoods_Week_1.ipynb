{
 "cells": [
  {
   "cell_type": "markdown",
   "metadata": {},
   "source": [
    "# Description of the problem and a discussion of the background"
   ]
  },
  {
   "cell_type": "markdown",
   "metadata": {},
   "source": [
    "Opening your own Gym has a lot of perks – you no longer have to work in someone else’s gym, which allows you to be in control of your schedule, design everything the way you want it to be, and be your own boss.\n",
    "Most fitness professionals have a dream to open their own facility. \n",
    "You need to put your facility in a suburb where you can acquire the best clients to keep it busy. Because without clients, there’s no point in having a facility at all! \n",
    "\n",
    "The right suburbs are where people love to spend their time. Important common venues are:\n",
    "- Cafes\n",
    "- Restaurants\n",
    "- Grocery Shops\n",
    "- Pubs and bars\n",
    "\n",
    "\n",
    "You also would like to see a low number of already existing gyms.\n",
    "\n",
    "\n",
    "With the metrolpolitan area of Melbourne having more than 400 suburbs choosing a suburb is not easy.\n",
    "Opening a new facility is a big investment, which means it’s up to the aspiring fitness professional to research and use data – not just emotions – to make decisions.\n",
    "\n",
    "\n",
    "**This project is to help fitnes professionals in Melbourne to find the best suburb for opening a new Gym**"
   ]
  },
  {
   "cell_type": "markdown",
   "metadata": {},
   "source": [
    "# Description of the data and how it will be used to solve the problem"
   ]
  },
  {
   "cell_type": "markdown",
   "metadata": {},
   "source": [
    "For the Melbourne metropolitan area a webpage exists that has a list of all Suburbs and their respective postcodes. url is: https://www.citypostcodes.com.au/Melbourne\n",
    "Geocoder will be used to get the latitude and longitude values for the list of suburbs.\n",
    "The Foursquare API is used to get the top 100 venues per suburb. \n",
    "\n",
    "How the data will be be used to solve the problem:\n",
    "1. Download and prepare the Suburb dataset. \n",
    "    - Clean the data \n",
    "    - Use Geocoder to get the latitude and longitude values for each suburb.\n",
    "    - Create a map of Melbourne with suburbs superimposed on top\n",
    "    \n",
    "    \n",
    "2. Explore the first Suburb\n",
    "    Look for \n",
    "    - Cafes\n",
    "    - Restaurants\n",
    "    - Grocery Shops\n",
    "    - Pubs and bars\n",
    "    - Existing Gyms\n",
    "    \n",
    "    \n",
    "3. Explore all Suburbs in Melbourne\n",
    "    - Work out the number of venues per suburb\n",
    "    - Analysze each suburb\n",
    "    - Group rows by neighborhood and by taking the mean of the frequency of occurrence of each category\n",
    "    - Display the top 10 venues for each neighborhood \n",
    "\n",
    "\n",
    "4. Cluster Suburbs\n",
    "    - Create a new dataframe that includes the cluster as well as the top 10 venues for each suburb\n",
    "    - visualize the resulting clusters\n",
    "\n",
    "\n",
    "5. Examine Clusters\n",
    "    - Print and visualize Suburbs with best cluster to open a new Gym "
   ]
  },
  {
   "cell_type": "code",
   "execution_count": null,
   "metadata": {},
   "outputs": [],
   "source": []
  }
 ],
 "metadata": {
  "kernelspec": {
   "display_name": "Python 3",
   "language": "python",
   "name": "python3"
  },
  "language_info": {
   "codemirror_mode": {
    "name": "ipython",
    "version": 3
   },
   "file_extension": ".py",
   "mimetype": "text/x-python",
   "name": "python",
   "nbconvert_exporter": "python",
   "pygments_lexer": "ipython3",
   "version": "3.6.10"
  }
 },
 "nbformat": 4,
 "nbformat_minor": 4
}
